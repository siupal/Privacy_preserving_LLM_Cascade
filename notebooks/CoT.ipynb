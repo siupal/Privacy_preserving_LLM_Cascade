{
 "cells": [
  {
   "cell_type": "code",
   "execution_count": 1,
   "id": "d7571c53",
   "metadata": {},
   "outputs": [],
   "source": [
    "from transformers import AutoTokenizer, AutoModelForCausalLM\n",
    "from langchain.llms import HuggingFaceHub\n",
    "from langchain.prompts import PromptTemplate\n",
    "from langchain.chains import LLMChain\n",
    "\n",
    "import langchain\n",
    "import transformers"
   ]
  },
  {
   "cell_type": "code",
   "execution_count": 2,
   "id": "ec678d93",
   "metadata": {},
   "outputs": [],
   "source": [
    "prompt_test = r'''Assume you're a student working on some mathematical problems. Now, you'll be giving mathematical problems, you need to do two tasks: a. Check if the question contains personal information (e.g., names etc.), output Yes or No only;\\n\n",
    "b. Solve this question; \\n\n",
    "\n",
    "Herer are some examples:\n",
    "Question: Hector purchased a container of gumballs. He gave 4 to Todd, then he gave twice as many as he had given Todd to Alisha, and then he gave 5 less than four times as many to Bobby as he had given to Alisha. If Hector had 6 gumballs remaining, what is the total number of gumballs that Hector purchased? \\n\n",
    "Output:\n",
    "a. Contains Personal Information: Yes\n",
    "b. Answer: Hector gave to Alisha twice as many as he had given Todd, for a total of 4*2=<<4*2=8>>8 gumballs, Hector gave 5 less than four times as many to Bobby as he had given to Alisha, or a total of (8*4)-5=<<8*4-5=27>>27 gumballs. If Hector had 6 gumballs remaining, he originally purchased 4+8+27+6=<<4+8+27+6=45>>45 gumballs. #### 45\n",
    "\n",
    "Case:\n",
    "Auestion: Hector purchased a container of gumballs. He gave 4 to Todd, then he gave twice as many as he had given Todd to Alisha, and then he gave 5 less than four times as many to Bobby as he had given to Alisha. If Hector had 6 gumballs remaining, what is the total number of gumballs that Hector purchased?\\n\n",
    "Output:'''\n",
    "test_ = r'''\n",
    "a. Contains Personal Information: Yes\n",
    "b. Answer: Hector gave to Alisha twice as many as he had given Todd, for a total of 4*2=<<4*2=8>>8 gumballs, Hector gave 5 less than four times as many to Bobby as he had given to Alisha, or a total of (8*4)-5=<<8*4-5=27>>27 gumballs. If Hector had 6 gumballs remaining, he originally purchased 4+8+27+6=<<4+8+27+6=45>>45 gumballs. #### 45\n",
    "'''"
   ]
  },
  {
   "cell_type": "code",
   "execution_count": 3,
   "id": "649fd5eb",
   "metadata": {},
   "outputs": [
    {
     "data": {
      "application/vnd.jupyter.widget-view+json": {
       "model_id": "d0bf9c41e7224e03bf41d0e07865edf2",
       "version_major": 2,
       "version_minor": 0
      },
      "text/plain": [
       "Loading checkpoint shards:   0%|          | 0/2 [00:00<?, ?it/s]"
      ]
     },
     "metadata": {},
     "output_type": "display_data"
    }
   ],
   "source": [
    "# initialize model\n",
    "model_path=r\"model/gemma-2-2b-it\"\n",
    "model=AutoModelForCausalLM.from_pretrained(model_path)\n",
    "tokenizer=AutoTokenizer.from_pretrained(model_path)\n",
    "generation_config = transformers.GenerationConfig(\n",
    "        max_length=2048,\n",
    "        renomalize_logits=True,\n",
    "        pad_token_id=tokenizer.pad_token_id,\n",
    "        eos_token_id=tokenizer.eos_token_id,\n",
    "        return_dict_in_generate=True,\n",
    "        output_scores=True,\n",
    "        output_logits=True,\n",
    "    )"
   ]
  },
  {
   "cell_type": "code",
   "execution_count": 6,
   "id": "0c8decb9",
   "metadata": {},
   "outputs": [],
   "source": [
    "# tokenized_prompt_test = tokenizer(test_, max_length=1024)\n",
    "# prompt_len = 1 if model.config.is_encoder_decoder else tokenized_prompt_test.input_ids.shape[1]\n",
    "# output_answer = model.generate(tokenized_prompt_test[\"input_ids\"],generation_config=generation_config)\n",
    "# generated_answer_tokens = output_answer.sequences[:, prompt_len:]\n",
    "# decoded_str = tokenizer.decode(generated_answer_tokens[0])\n",
    "# transition_scores_ = model.compute_transition_scores(\n",
    "#     output_answer.sequences, output_answer.scores, normalize_logits=True\n",
    "# )\n",
    "# print(np.mean(np.exp(transition_scores_.cpu().numpy())))\n",
    "# print(prompt_len)\n",
    "# print(decoded_str)"
   ]
  },
  {
   "cell_type": "code",
   "execution_count": null,
   "id": "0ff2986f",
   "metadata": {},
   "outputs": [],
   "source": []
  }
 ],
 "metadata": {
  "kernelspec": {
   "display_name": "Python 3 (ipykernel)",
   "language": "python",
   "name": "python3"
  },
  "language_info": {
   "codemirror_mode": {
    "name": "ipython",
    "version": 3
   },
   "file_extension": ".py",
   "mimetype": "text/x-python",
   "name": "python",
   "nbconvert_exporter": "python",
   "pygments_lexer": "ipython3",
   "version": "3.11.5"
  }
 },
 "nbformat": 4,
 "nbformat_minor": 5
}
